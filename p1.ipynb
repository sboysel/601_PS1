{
 "cells": [
  {
   "cell_type": "code",
   "execution_count": 1,
   "metadata": {},
   "outputs": [
    {
     "name": "stderr",
     "output_type": "stream",
     "text": [
      "\u001b[1m\u001b[36mINFO: \u001b[39m\u001b[22m\u001b[36mUpdating METADATA...\n",
      "\u001b[39m\u001b[1m\u001b[36mINFO: \u001b[39m\u001b[22m\u001b[36mUpdating EconPDEs master...\n",
      "\u001b[39m\u001b[1m\u001b[36mINFO: \u001b[39m\u001b[22m\u001b[36mComputing changes...\n",
      "\u001b[39m\u001b[1m\u001b[36mINFO: \u001b[39m\u001b[22m\u001b[36mNo packages to install, update or remove\n",
      "\u001b[39m"
     ]
    }
   ],
   "source": [
    "## ----------------------------------------------------------------------------\n",
    "## Course: ECON 601\n",
    "## Instructor: Michael Magill\n",
    "## Problem: 1\n",
    "## Author: Sam Boysel\n",
    "## Date: 8/23/2017\n",
    "## Desciption: Arrow-Debreu Equilibrium\n",
    "## ----------------------------------------------------------------------------\n",
    "\n",
    "## (1) Setup ------------------------------------------------------------------\n",
    "# Pkg.add(\"JuMP\")\n",
    "# Pkg.add(\"Ipopt\")\n",
    "\n",
    "Pkg.update()\n",
    "\n",
    "using JuMP, Clp, Ipopt"
   ]
  },
  {
   "cell_type": "code",
   "execution_count": 11,
   "metadata": {},
   "outputs": [
    {
     "data": {
      "text/plain": [
       "print_solution (generic function with 2 methods)"
      ]
     },
     "execution_count": 11,
     "metadata": {},
     "output_type": "execute_result"
    }
   ],
   "source": [
    "function init_model(α, a, p, b, ϵ, ω_1, ω_2, ω_3)\n",
    "\tm = Model(solver = IpoptSolver(print_level = 0)) \n",
    "\t@variable(m, x_1_0 >= 0.0)\n",
    "\t@variable(m, x_1_1 >= 0.0)\n",
    "\t@variable(m, x_1_2 >= 0.0)\n",
    "\t@variable(m, x_1_3 >= 0.0)\n",
    "\t@variable(m, x_1_4 >= 0.0)\n",
    "\t# Agent 2\n",
    "\t@variable(m, x_2_0 >= 0.0)\n",
    "\t@variable(m, x_2_1 >= 0.0)\n",
    "\t@variable(m, x_2_2 >= 0.0)\n",
    "\t@variable(m, x_2_3 >= 0.0)\n",
    "\t@variable(m, x_2_4 >= 0.0)\n",
    "\t# Agent 3\n",
    "\t@variable(m, x_3_0 >= 0.0)\n",
    "\t@variable(m, x_3_1 >= 0.0)\n",
    "\t@variable(m, x_3_2 >= 0.0)\n",
    "\t@variable(m, x_3_3 >= 0.0)\n",
    "\t@variable(m, x_3_4 >= 0.0)\n",
    "\t# Prices\n",
    "\t@variable(m, π_0 == 1.0)\n",
    "\t@variable(m, π_1 >= 0.0)\n",
    "\t@variable(m, π_2 >= 0.0)\n",
    "\t@variable(m, π_3 >= 0.0)\n",
    "\t@variable(m, π_4 >= 0.0)\n",
    "\t# discount factor\n",
    "\tδ = 0.95\n",
    "\t## (1.2) Aggregate welfare --------------------------------------------\n",
    "\t@NLobjective(\n",
    "\t\tm,\n",
    "\t\tMax,\n",
    "\t\t# Agent 1\n",
    "\t\t(1 / (1 - α)) * (a[1] + x_1_0)^(1 - α) +\n",
    "\t\tδ * p[1, 1] * p[2, 1] * (1 / (1 - α)) * (a[1] + x_1_1)^(1 - α) +\n",
    "\t\tδ * p[1, 1] * (1 - p[2, 1]) * (1 / (1 - α)) * (a[1] + x_1_2)^(1 - α) +\n",
    "\t\tδ * (1 - p[1, 1]) * p[2, 1] * (1 / (1 - α)) * (a[1] + x_1_3)^(1 - α) +\n",
    "\t\tδ * (1 - p[1, 1]) * (1 - p[2, 1]) * (1 / (1 - α)) * (a[1] + x_1_4)^(1 - α) +\n",
    "\t\t# Agent 2\n",
    "\t\t(1 / (1 - α)) * (a[2] + x_2_0)^(1 - α) +\n",
    "\t\tδ * p[1, 2] * p[2, 2] * (1 / (1 - α)) * (a[2] + x_2_1)^(1 - α) +\n",
    "\t\tδ * p[1, 2] * (1 - p[2, 2]) * (1 / (1 - α)) * (a[2] + x_2_2)^(1 - α) +\n",
    "\t\tδ * (1 - p[1, 2]) * p[2, 2] * (1 / (1 - α)) * (a[2] + x_2_3)^(1 - α) +\n",
    "\t\tδ * (1 - p[1, 2]) * (1 - p[2, 2]) * (1 / (1 - α)) * (a[2] + x_2_4)^(1 - α) +\n",
    "\t\t# Agent 3\n",
    "\t\t(1 / (1 - α)) * (a[3] + x_3_0)^(1 - α) +\n",
    "\t\tδ * p[1, 3] * p[2, 3] * (1 / (1 - α)) * (a[3] + x_3_1)^(1 - α) +\n",
    "\t\tδ * p[1, 3] * (1 - p[2, 3]) * (1 / (1 - α)) * (a[3] + x_3_2)^(1 - α) +\n",
    "\t\tδ * (1 - p[1, 3]) * p[2, 3] * (1 / (1 - α)) * (a[3] + x_3_3)^(1 - α) +\n",
    "\t\tδ * (1 - p[1, 3]) * (1 - p[2, 3]) * (1 / (1 - α)) * (a[3] + x_3_4)^(1 - α)\n",
    "\t)\n",
    "\t## (1.3) Contraints\n",
    "\t## (1.3.1) State-contingent market clearing conditions ----------------\n",
    "\t# s = 0 \n",
    "\t@constraint(\n",
    "\t\tm,\n",
    "\t\tx_1_0 + x_2_0 + x_3_0 <= ω_1[1] + ω_2[1] + ω_3[1]\n",
    "\t)\n",
    "\t# s = 1 \n",
    "\t@constraint(\n",
    "\t\tm,\n",
    "\t\tx_1_1 + x_2_1 + x_3_1 <= ω_1[2] + ω_2[2] + ω_3[2]\n",
    "\t)\n",
    "\t# s = 2 \n",
    "\t@constraint(\n",
    "\t\tm,\n",
    "\t\tx_1_2 + x_2_2 + x_3_2 <= ω_1[3] + ω_2[3] + ω_3[3]\n",
    "\t)\n",
    "\t# s = 3 \n",
    "\t@constraint(\n",
    "\t\tm,\n",
    "\t\tx_1_3 + x_2_3 + x_3_3 <= ω_1[4] + ω_2[4] + ω_3[4]\n",
    "\t)\n",
    "\t# s = 4\n",
    "\t@constraint(\n",
    "\t\tm,\n",
    "\t\tx_1_4 + x_2_4 + x_3_4 <= ω_1[5] + ω_2[5] + ω_3[5]\n",
    "\t)\n",
    "\t## (1.3.2) Agent 1's state-contingent budget constraints --------------\n",
    "\t# s = 1\n",
    "\t@constraint(\n",
    "\t\tm,\n",
    "\t\tx_1_0 * π_0 + x_1_1 * π_1 <= ω_1[1] * π_0 + ω_1[2] * π_1\n",
    "\t)\n",
    "\t# s = 2\n",
    "\t@constraint(\n",
    "\t\tm,\n",
    "\t\tx_1_0 * π_0 + x_1_2 * π_2 <= ω_1[1] * π_0 + ω_1[3] * π_2\n",
    "\t)\n",
    "\t# s = 3\n",
    "\t@constraint(\n",
    "\t\tm,\n",
    "\t\tx_1_0 * π_0 + x_1_3 * π_3 <= ω_1[1] * π_0 + ω_1[4] * π_3\n",
    "\t)\n",
    "\t# s = 4\n",
    "\t@constraint(\n",
    "\t\tm,\n",
    "\t\tx_1_0 * π_0 + x_1_4 * π_4 <= ω_1[1] * π_0 + ω_1[5] * π_4\n",
    "\t)\n",
    "\t## (1.3.3) Agent 2's state-contingent budget constraints --------------\n",
    "\t# s = 1\n",
    "\t@constraint(\n",
    "\t\tm,\n",
    "\t\tx_2_0 * π_0 + x_2_1 * π_1 <= ω_2[1] * π_0 + ω_2[2] * π_1\n",
    "\t)\n",
    "\t# s = 2\n",
    "\t@constraint(\n",
    "\t\tm,\n",
    "\t\tx_2_0 * π_0 + x_2_2 * π_2 <= ω_2[1] * π_0 + ω_2[3] * π_2\n",
    "\t)\n",
    "\t# s = 3\n",
    "\t@constraint(\n",
    "\t\tm,\n",
    "\t\tx_2_0 * π_0 + x_2_3 * π_3 <= ω_2[1] * π_0 + ω_2[4] * π_3\n",
    "\t)\n",
    "\t# s = 4\n",
    "\t@constraint(\n",
    "\t\tm,\n",
    "\t\tx_2_0 * π_0 + x_2_4 * π_4 <= ω_2[1] * π_0 + ω_2[5] * π_4\n",
    "\t)\n",
    "\t## (1.3.4) Agent 3's state-contingent budget constraints --------------\n",
    "\t# s = 1\n",
    "\t@constraint(\n",
    "\t\tm,\n",
    "\t\tx_3_0 * π_0 + x_3_1 * π_1 <= ω_3[1] * π_0 + ω_3[2] * π_1\n",
    "\t)\n",
    "\t# s = 2\n",
    "\t@constraint(\n",
    "\t\tm,\n",
    "\t\tx_3_0 * π_0 + x_3_2 * π_2 <= ω_3[1] * π_0 + ω_3[3] * π_2\n",
    "\t)\n",
    "\t# s = 3\n",
    "\t@constraint(\n",
    "\t\tm,\n",
    "\t\tx_3_0 * π_0 + x_3_3 * π_3 <= ω_3[1] * π_0 + ω_3[4] * π_3\n",
    "\t)\n",
    "\t# s = 4\n",
    "\t@constraint(\n",
    "\t\tm,\n",
    "\t\tx_3_0 * π_0 + x_3_4 * π_4 <= ω_3[1] * π_0 + ω_3[5] * π_4\n",
    "\t)\n",
    "\t# non-zero prices\n",
    "\tslack = 1e-6\n",
    "\t@constraint(m, π_1 >= slack)\n",
    "\t@constraint(m, π_2 >= slack)\n",
    "\t@constraint(m, π_3 >= slack)\n",
    "\t@constraint(m, π_4 >= slack)\n",
    "\tX = [[x_1_0, x_1_1, x_1_2, x_1_3, x_1_4],\n",
    "         [x_2_0, x_2_1, x_2_2, x_2_3, x_2_4],\n",
    "         [x_3_0, x_3_1, x_3_2, x_3_3, x_3_4]]\n",
    "    P = [π_0, π_1, π_2, π_3, π_4]\n",
    "    m, X, P\n",
    "end\n",
    "\n",
    "# convenience function to print solutions\n",
    "function print_solution(x, p)\n",
    "        println(\"A-D Equilibrium:\")\n",
    "        println(\" π = {π_0 = 1, ..., π_4}:\")\n",
    "        println(\" - $(map(getvalue, p))\")\n",
    "        println(\" x = {x_0, ..., x_4}\")\n",
    "        println(\" - i = 1: $(map(getvalue, x[1]))\")\n",
    "        println(\" - i = 2: $(map(getvalue, x[2]))\")\n",
    "        println(\" - i = 3: $(map(getvalue, x[3]))\")\n",
    "end"
   ]
  },
  {
   "cell_type": "markdown",
   "metadata": {},
   "source": [
    "## (3) No risk, identical beliefs"
   ]
  },
  {
   "cell_type": "code",
   "execution_count": 12,
   "metadata": {
    "scrolled": true
   },
   "outputs": [
    {
     "name": "stdout",
     "output_type": "stream",
     "text": [
      "A-D Equilibrium:\n",
      " π = {π_0 = 1, ..., π_4}:\n",
      " - [1.0, 2.00001, 2.00001, 2.00001, 2.00001]\n",
      " x = {x_0, ..., x_4}\n",
      " - i = 1: [333.334, 333.333, 333.333, 333.333, 333.333]\n",
      " - i = 2: [333.334, 333.333, 333.333, 333.333, 333.333]\n",
      " - i = 3: [333.332, 333.33, 333.33, 333.33, 333.33]\n"
     ]
    }
   ],
   "source": [
    "## (3.1) Parameters\n",
    "α = 2.0\n",
    "a = [0.0, 0.0, 0.0]\n",
    "# probabilities\n",
    "# - p[k, i] = agent i's belief that firm k is successful\n",
    "p = [0.5 0.5 0.5;\n",
    "     0.5 0.5 0.5]\n",
    "# non-stochastic wealth\n",
    "b = [500.0, 500.0, 1000.0]\n",
    "# stochastic wealth\n",
    "ϵ = [0.0, 0.0]\n",
    "# endowment vectors\n",
    "ω_1 = [0.0, b[1] + ϵ[1], b[1] + ϵ[1], b[1] - ϵ[1], b[1] - ϵ[1]]\n",
    "ω_2 = [0.0, b[2] + ϵ[2], b[2] - ϵ[2], b[2] + ϵ[2], b[2] - ϵ[2]]\n",
    "ω_3 = [b[3], 0.0, 0.0, 0.0, 0.0]\n",
    "\n",
    "# Initiate model and solve for equilibrium\n",
    "m, X, P = init_model(α, a, p, b, ϵ, ω_1, ω_2, ω_3)\n",
    "status = solve(m)\n",
    "print_solution(X, P)"
   ]
  },
  {
   "cell_type": "markdown",
   "metadata": {},
   "source": [
    "## (4) Some risk, identical beliefs"
   ]
  },
  {
   "cell_type": "code",
   "execution_count": 13,
   "metadata": {},
   "outputs": [
    {
     "name": "stdout",
     "output_type": "stream",
     "text": [
      "A-D Equilibrium:\n",
      " π = {π_0 = 1, ..., π_4}:\n",
      " - [1.0, 1.57219, 2.72719, 2.1694, 2.9521]\n",
      " x = {x_0, ..., x_4}\n",
      " - i = 1: [346.662, 379.502, 472.882, 240.203, 282.57]\n",
      " - i = 2: [320.18, 496.344, 182.597, 552.405, 191.541]\n",
      " - i = 3: [333.157, 424.146, 244.516, 307.385, 225.887]\n"
     ]
    }
   ],
   "source": [
    "## (4.1) Parameters\n",
    "# stochastic wealth\n",
    "ϵ = [100.0, 200.0]\n",
    "# endowment vectors\n",
    "ω_1 = [0.0, b[1] + ϵ[1], b[1] + ϵ[1], b[1] - ϵ[1], b[1] - ϵ[1]]\n",
    "ω_2 = [0.0, b[2] + ϵ[2], b[2] - ϵ[2], b[2] + ϵ[2], b[2] - ϵ[2]]\n",
    "ω_3 = [b[3], 0.0, 0.0, 0.0, 0.0]\n",
    "\n",
    "# Initiate model and solve for equilibrium\n",
    "m, X, P = init_model(α, a, p, b, ϵ, ω_1, ω_2, ω_3)\n",
    "status = solve(m)\n",
    "print_solution(X, P)"
   ]
  },
  {
   "cell_type": "markdown",
   "metadata": {},
   "source": [
    "## (5) Some risk, variation in investor beliefs"
   ]
  },
  {
   "cell_type": "code",
   "execution_count": 14,
   "metadata": {},
   "outputs": [
    {
     "name": "stdout",
     "output_type": "stream",
     "text": [
      "A-D Equilibrium:\n",
      " π = {π_0 = 1, ..., π_4}:\n",
      " - [1.0, 1.30652, 2.86567, 2.22623, 3.94754]\n",
      " x = {x_0, ..., x_4}\n",
      " - i = 1: [339.357, 340.257, 481.574, 247.564, 314.032]\n",
      " - i = 2: [327.347, 449.448, 185.769, 552.954, 217.075]\n",
      " - i = 3: [333.296, 510.289, 232.651, 299.475, 168.89]\n"
     ]
    }
   ],
   "source": [
    "## (5.1) Parameters\n",
    "# probabilities\n",
    "# - p[k, i] = agent i's belief that firm k is successful\n",
    "p = [0.5 0.5 2/3;\n",
    "     0.5 0.5 2/3]\n",
    "\n",
    "# Initiate model solve for equilibrium\n",
    "m, X, P = init_model(α, a, p, b, ϵ, ω_1, ω_2, ω_3)\n",
    "status = solve(m)\n",
    "print_solution(X, P)"
   ]
  },
  {
   "cell_type": "markdown",
   "metadata": {},
   "source": [
    "## (6) Some risk, variation in preferences"
   ]
  },
  {
   "cell_type": "code",
   "execution_count": 15,
   "metadata": {},
   "outputs": [
    {
     "name": "stdout",
     "output_type": "stream",
     "text": [
      "A-D Equilibrium:\n",
      " π = {π_0 = 1, ..., π_4}:\n",
      " - [1.0, 35345.1, 43770.2, 39139.6, 48227.1]\n",
      " x = {x_0, ..., x_4}\n",
      " - i = 1: [499.884, 583.895, 582.061, 392.467, 391.037]\n",
      " - i = 2: [499.881, 678.067, 295.52, 677.115, 295.138]\n",
      " - i = 3: [0.234706, 0.0153233, 0.0127065, 0.0140188, 0.0115977]\n"
     ]
    }
   ],
   "source": [
    "## (6.1) Parameters\n",
    "a = [0.0, 0.0, 500.0]\n",
    "# probabilities\n",
    "# - p[k, i] = agent i's belief that firm k is successful\n",
    "p = [0.5 0.5 0.5;\n",
    "     0.5 0.5 0.5]\n",
    "# non-stochastic wealth\n",
    "b = [500.0, 500.0, 1000.0]\n",
    "# stochastic wealth\n",
    "ϵ = [100.0, 200.0]\n",
    "# endowment vectors\n",
    "ω_1 = [0.0, b[1] + ϵ[1], b[1] + ϵ[1], b[1] - ϵ[1], b[1] - ϵ[1]]\n",
    "ω_2 = [0.0, b[2] + ϵ[2], b[2] - ϵ[2], b[2] + ϵ[2], b[2] - ϵ[2]]\n",
    "ω_3 = [b[3], 0.0, 0.0, 0.0, 0.0]\n",
    "\n",
    "# Initiate model and solve for equilibrium\n",
    "m, X, P = init_model(α, a, p, b, ϵ, ω_1, ω_2, ω_3)\n",
    "status = solve(m)\n",
    "print_solution(X, P)"
   ]
  },
  {
   "cell_type": "markdown",
   "metadata": {},
   "source": [
    "## (7) No risk, variation in preferences\n",
    "\n",
    "## (7) (a)"
   ]
  },
  {
   "cell_type": "code",
   "execution_count": 19,
   "metadata": {},
   "outputs": [
    {
     "name": "stdout",
     "output_type": "stream",
     "text": [
      "A-D Equilibrium:\n",
      " π = {π_0 = 1, ..., π_4}:\n",
      " - [1.0, 2.15695e5, 2.15695e5, 2.15695e5, 2.15695e5]\n",
      " x = {x_0, ..., x_4}\n",
      " - i = 1: [166.667, 499.995, 499.995, 499.995, 499.995]\n",
      " - i = 2: [166.667, 499.995, 499.995, 499.995, 499.995]\n",
      " - i = 3: [166.667, 499.997, 499.997, 499.997, 499.997]\n"
     ]
    }
   ],
   "source": [
    "a = [0.0, 0.0, 0.0]\n",
    "# probabilities\n",
    "# - p[http://localhost:8888/notebooks/p1.ipynb#k, i] = agent i's belief that firm k is successful\n",
    "p = [0.5 0.5 0.5;\n",
    "     0.5 0.5 0.5]\n",
    "# non-stochastic wealth\n",
    "b = [500.0, 500.0, 500.0]\n",
    "# stochastic wealth\n",
    "ϵ = [0.0, 0.0]\n",
    "# endowment vectors\n",
    "ω_1 = [0.0, b[1] + ϵ[1], b[1] + ϵ[1], b[1] - ϵ[1], b[1] - ϵ[1]]\n",
    "ω_2 = [0.0, b[2] + ϵ[2], b[2] - ϵ[2], b[2] + ϵ[2], b[2] - ϵ[2]]\n",
    "ω_3 = [b[3], b[3], b[3], b[3], b[3]]\n",
    "\n",
    "# Initiate model and solve for equilibrium\n",
    "m, X, P = init_model(α, a, p, b, ϵ, ω_1, ω_2, ω_3)\n",
    "status = solve(m)\n",
    "print_solution(X, P)"
   ]
  },
  {
   "cell_type": "markdown",
   "metadata": {},
   "source": [
    "## (7) (b)"
   ]
  },
  {
   "cell_type": "code",
   "execution_count": 18,
   "metadata": {},
   "outputs": [
    {
     "name": "stdout",
     "output_type": "stream",
     "text": [
      "A-D Equilibrium:\n",
      " π = {π_0 = 1, ..., π_4}:\n",
      " - [1.0, 2.17465e5, 217154.0, 2.01101e5, 2.07378e5]\n",
      " x = {x_0, ..., x_4}\n",
      " - i = 1: [166.667, 499.997, 499.995, 499.996, 499.989]\n",
      " - i = 2: [166.667, 499.993, 499.993, 499.997, 499.997]\n",
      " - i = 3: [166.667, 499.996, 500.0, 499.983, 499.997]\n"
     ]
    }
   ],
   "source": [
    "# parameters\n",
    "a = [0.0, 0.0, 0.0]\n",
    "# probabilities\n",
    "# - p[k, i] = agent i's belief that firm k is successful\n",
    "p = [2/3 1/3 3/4;\n",
    "     2/3 1/2 1/4]\n",
    "# non-stochastic wealth\n",
    "b = [500.0, 500.0, 500.0]\n",
    "# stochastic wealth\n",
    "ϵ = [0.0, 0.0]\n",
    "# endowment vectors\n",
    "ω_1 = [0.0, b[1] + ϵ[1], b[1] + ϵ[1], b[1] - ϵ[1], b[1] - ϵ[1]]\n",
    "ω_2 = [0.0, b[2] + ϵ[2], b[2] - ϵ[2], b[2] + ϵ[2], b[2] - ϵ[2]]\n",
    "ω_3 = [b[3], b[3], b[3], b[3], b[3]]\n",
    "\n",
    "# Initiate model and solve for equilibrium\n",
    "m, X, P = init_model(α, a, p, b, ϵ, ω_1, ω_2, ω_3)\n",
    "status = solve(m)\n",
    "print_solution(X, P)"
   ]
  },
  {
   "cell_type": "code",
   "execution_count": null,
   "metadata": {
    "collapsed": true
   },
   "outputs": [],
   "source": []
  }
 ],
 "metadata": {
  "kernelspec": {
   "display_name": "Julia 0.6.0",
   "language": "julia",
   "name": "julia-0.6"
  },
  "language_info": {
   "file_extension": ".jl",
   "mimetype": "application/julia",
   "name": "julia",
   "version": "0.6.0"
  }
 },
 "nbformat": 4,
 "nbformat_minor": 2
}
