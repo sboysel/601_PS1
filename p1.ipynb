{
 "cells": [
  {
   "cell_type": "code",
   "execution_count": 1,
   "metadata": {},
   "outputs": [
    {
     "name": "stderr",
     "output_type": "stream",
     "text": [
      "\u001b[1m\u001b[36mINFO: \u001b[39m\u001b[22m\u001b[36mUpdating METADATA...\n",
      "\u001b[39m\u001b[1m\u001b[36mINFO: \u001b[39m\u001b[22m\u001b[36mUpdating EconPDEs master...\n",
      "\u001b[39m\u001b[1m\u001b[36mINFO: \u001b[39m\u001b[22m\u001b[36mComputing changes...\n",
      "\u001b[39m\u001b[1m\u001b[36mINFO: \u001b[39m\u001b[22m\u001b[36mNo packages to install, update or remove\n",
      "\u001b[39m"
     ]
    }
   ],
   "source": [
    "## ----------------------------------------------------------------------------\n",
    "## Course: ECON 601\n",
    "## Instructor: Michael Magill\n",
    "## Problem: 1\n",
    "## Author: Sam Boysel\n",
    "## Date: 8/23/2017\n",
    "## Desciption: Arrow-Debreu Equilibrium\n",
    "## ----------------------------------------------------------------------------\n",
    "\n",
    "## (1) Setup ------------------------------------------------------------------\n",
    "# Pkg.add(\"JuMP\")\n",
    "# Pkg.add(\"Ipopt\")\n",
    "\n",
    "Pkg.update()\n",
    "\n",
    "using JuMP, Clp, Ipopt"
   ]
  },
  {
   "cell_type": "code",
   "execution_count": 2,
   "metadata": {},
   "outputs": [
    {
     "data": {
      "text/plain": [
       "print_solution (generic function with 1 method)"
      ]
     },
     "execution_count": 2,
     "metadata": {},
     "output_type": "execute_result"
    }
   ],
   "source": [
    "function init_model(α, a, p, b, ϵ, ω_1, ω_2, ω_3)\n",
    "\tm = Model(solver = IpoptSolver(print_level = 0)) \n",
    "\t@variable(m, x_1_0 >= 0.0)\n",
    "\t@variable(m, x_1_1 >= 0.0)\n",
    "\t@variable(m, x_1_2 >= 0.0)\n",
    "\t@variable(m, x_1_3 >= 0.0)\n",
    "\t@variable(m, x_1_4 >= 0.0)\n",
    "\t# Agent 2\n",
    "\t@variable(m, x_2_0 >= 0.0)\n",
    "\t@variable(m, x_2_1 >= 0.0)\n",
    "\t@variable(m, x_2_2 >= 0.0)\n",
    "\t@variable(m, x_2_3 >= 0.0)\n",
    "\t@variable(m, x_2_4 >= 0.0)\n",
    "\t# Agent 3\n",
    "\t@variable(m, x_3_0 >= 0.0)\n",
    "\t@variable(m, x_3_1 >= 0.0)\n",
    "\t@variable(m, x_3_2 >= 0.0)\n",
    "\t@variable(m, x_3_3 >= 0.0)\n",
    "\t@variable(m, x_3_4 >= 0.0)\n",
    "\t# Prices\n",
    "\t@variable(m, π_0 == 1.0)\n",
    "\t@variable(m, π_1 >= 0.0)\n",
    "\t@variable(m, π_2 >= 0.0)\n",
    "\t@variable(m, π_3 >= 0.0)\n",
    "\t@variable(m, π_4 >= 0.0)\n",
    "\t# discount factor\n",
    "\tδ = 0.95\n",
    "\t## (1.2) Aggregate welfare --------------------------------------------\n",
    "\t@NLobjective(\n",
    "\t\tm,\n",
    "\t\tMax,\n",
    "\t\t# Agent 1\n",
    "\t\t(1 / (1 - α)) * (a[1] + x_1_0)^(1 - α) +\n",
    "\t\tδ * p[1, 1] * p[2, 1] * (1 / (1 - α)) * (a[1] + x_1_1)^(1 - α) +\n",
    "\t\tδ * p[1, 1] * (1 - p[2, 1]) * (1 / (1 - α)) * (a[1] + x_1_2)^(1 - α) +\n",
    "\t\tδ * (1 - p[1, 1]) * p[2, 1] * (1 / (1 - α)) * (a[1] + x_1_3)^(1 - α) +\n",
    "\t\tδ * (1 - p[1, 1]) * (1 - p[2, 1]) * (1 / (1 - α)) * (a[1] + x_1_4)^(1 - α) +\n",
    "\t\t# Agent 2\n",
    "\t\t(1 / (1 - α)) * (a[2] + x_2_0)^(1 - α) +\n",
    "\t\tδ * p[1, 2] * p[2, 2] * (1 / (1 - α)) * (a[2] + x_2_1)^(1 - α) +\n",
    "\t\tδ * p[1, 2] * (1 - p[2, 2]) * (1 / (1 - α)) * (a[2] + x_2_2)^(1 - α) +\n",
    "\t\tδ * (1 - p[1, 2]) * p[2, 2] * (1 / (1 - α)) * (a[2] + x_2_3)^(1 - α) +\n",
    "\t\tδ * (1 - p[1, 2]) * (1 - p[2, 2]) * (1 / (1 - α)) * (a[2] + x_2_4)^(1 - α) +\n",
    "\t\t# Agent 3\n",
    "\t\t(1 / (1 - α)) * (a[3] + x_3_0)^(1 - α) +\n",
    "\t\tδ * p[1, 3] * p[2, 3] * (1 / (1 - α)) * (a[3] + x_3_1)^(1 - α) +\n",
    "\t\tδ * p[1, 3] * (1 - p[2, 3]) * (1 / (1 - α)) * (a[3] + x_3_2)^(1 - α) +\n",
    "\t\tδ * (1 - p[1, 3]) * p[2, 3] * (1 / (1 - α)) * (a[3] + x_3_3)^(1 - α) +\n",
    "\t\tδ * (1 - p[1, 3]) * (1 - p[2, 3]) * (1 / (1 - α)) * (a[3] + x_3_4)^(1 - α)\n",
    "\t)\n",
    "\t## (1.3) Contraints\n",
    "\t## (1.3.1) State-contingent market clearing conditions ----------------\n",
    "\t# s = 0 \n",
    "\t@constraint(\n",
    "\t\tm,\n",
    "\t\tx_1_0 + x_2_0 + x_3_0 <= ω_1[1] + ω_2[1] + ω_3[1]\n",
    "\t)\n",
    "\t# s = 1 \n",
    "\t@constraint(\n",
    "\t\tm,\n",
    "\t\tx_1_1 + x_2_1 + x_3_1 <= ω_1[2] + ω_2[2] + ω_3[2]\n",
    "\t)\n",
    "\t# s = 2 \n",
    "\t@constraint(\n",
    "\t\tm,\n",
    "\t\tx_1_2 + x_2_2 + x_3_2 <= ω_1[3] + ω_2[3] + ω_3[3]\n",
    "\t)\n",
    "\t# s = 3 \n",
    "\t@constraint(\n",
    "\t\tm,\n",
    "\t\tx_1_3 + x_2_3 + x_3_3 <= ω_1[4] + ω_2[4] + ω_3[4]\n",
    "\t)\n",
    "\t# s = 4\n",
    "\t@constraint(\n",
    "\t\tm,\n",
    "\t\tx_1_4 + x_2_4 + x_3_4 <= ω_1[5] + ω_2[5] + ω_3[5]\n",
    "\t)\n",
    "\t## (1.3.2) Agent 1's state-contingent budget constraints --------------\n",
    "\t# s = 1\n",
    "\t@constraint(\n",
    "\t\tm,\n",
    "\t\tx_1_0 * π_0 + x_1_1 * π_1 <= ω_1[1] * π_0 + ω_1[2] * π_1\n",
    "\t)\n",
    "\t# s = 2\n",
    "\t@constraint(\n",
    "\t\tm,\n",
    "\t\tx_1_0 * π_0 + x_1_2 * π_2 <= ω_1[1] * π_0 + ω_1[3] * π_2\n",
    "\t)\n",
    "\t# s = 3\n",
    "\t@constraint(\n",
    "\t\tm,\n",
    "\t\tx_1_0 * π_0 + x_1_3 * π_3 <= ω_1[1] * π_0 + ω_1[4] * π_3\n",
    "\t)\n",
    "\t# s = 4\n",
    "\t@constraint(\n",
    "\t\tm,\n",
    "\t\tx_1_0 * π_0 + x_1_4 * π_4 <= ω_1[1] * π_0 + ω_1[5] * π_4\n",
    "\t)\n",
    "\t## (1.3.3) Agent 2's state-contingent budget constraints --------------\n",
    "\t# s = 1\n",
    "\t@constraint(\n",
    "\t\tm,\n",
    "\t\tx_2_0 * π_0 + x_2_1 * π_1 <= ω_2[1] * π_0 + ω_2[2] * π_1\n",
    "\t)\n",
    "\t# s = 2\n",
    "\t@constraint(\n",
    "\t\tm,\n",
    "\t\tx_2_0 * π_0 + x_2_2 * π_2 <= ω_2[1] * π_0 + ω_2[3] * π_2\n",
    "\t)\n",
    "\t# s = 3\n",
    "\t@constraint(\n",
    "\t\tm,\n",
    "\t\tx_2_0 * π_0 + x_2_3 * π_3 <= ω_2[1] * π_0 + ω_2[4] * π_3\n",
    "\t)\n",
    "\t# s = 4\n",
    "\t@constraint(\n",
    "\t\tm,\n",
    "\t\tx_2_0 * π_0 + x_2_4 * π_4 <= ω_2[1] * π_0 + ω_2[5] * π_4\n",
    "\t)\n",
    "\t## (1.3.4) Agent 3's state-contingent budget constraints --------------\n",
    "\t# s = 1\n",
    "\t@constraint(\n",
    "\t\tm,\n",
    "\t\tx_3_0 * π_0 + x_3_1 * π_1 <= ω_3[1] * π_0 + ω_3[2] * π_1\n",
    "\t)\n",
    "\t# s = 2\n",
    "\t@constraint(\n",
    "\t\tm,\n",
    "\t\tx_3_0 * π_0 + x_3_2 * π_2 <= ω_3[1] * π_0 + ω_3[3] * π_2\n",
    "\t)\n",
    "\t# s = 3\n",
    "\t@constraint(\n",
    "\t\tm,\n",
    "\t\tx_3_0 * π_0 + x_3_3 * π_3 <= ω_3[1] * π_0 + ω_3[4] * π_3\n",
    "\t)\n",
    "\t# s = 4\n",
    "\t@constraint(\n",
    "\t\tm,\n",
    "\t\tx_3_0 * π_0 + x_3_4 * π_4 <= ω_3[1] * π_0 + ω_3[5] * π_4\n",
    "\t)\n",
    "\t# non-zero prices\n",
    "\tslack = 1e-16\n",
    "\t@constraint(m, π_1 >= slack)\n",
    "\t@constraint(m, π_2 >= slack)\n",
    "\t@constraint(m, π_3 >= slack)\n",
    "\t@constraint(m, π_4 >= slack)\n",
    "\tX = [[x_1_0, x_1_1, x_1_2, x_1_3, x_1_4],\n",
    "         [x_2_0, x_2_1, x_2_2, x_2_3, x_2_4],\n",
    "         [x_3_0, x_3_1, x_3_2, x_3_3, x_3_4]]\n",
    "    P = [π_0, π_1, π_2, π_3, π_4]\n",
    "    m, X, P\n",
    "end\n",
    "\n",
    "# convenience function to print solutions\n",
    "function print_solution(x, p)\n",
    "    println(\"A-D Equilibrium:\")\n",
    "    println(\" π = {π_0 = 1, ..., π_4}:\")\n",
    "    println(\" - $(map(getvalue, p))\")\n",
    "    println(\" x = {x_0, ..., x_4}\")\n",
    "    println(\" - i = 1: $(map(getvalue, x[1]))\")\n",
    "    println(\" - i = 2: $(map(getvalue, x[2]))\")\n",
    "    println(\" - i = 3: $(map(getvalue, x[3]))\")\n",
    "end"
   ]
  },
  {
   "cell_type": "markdown",
   "metadata": {},
   "source": [
    "## (1)\n",
    "\n",
    "First, assume $\\epsilon_{i} \\sim \\text{iid}(\\theta_{i}) > 0, \\, \\forall \\, \\theta_{i}$ in the parameter space and $i \\in 1, 2$.  Second, denote the income stream to agent $i$ at time $1$ as $\\nu^{i}_{s}$ where $s \\in \\{\\text{success}, \\text{failure}\\}$ and\n",
    "\t\t\\begin{align*}\n",
    "\t\t\t\\nu^{i}_{\\text{failure}} &= b_{i} - \\epsilon_i \\\\\n",
    "\t\t\t\\nu^{i}_{\\text{success}} &= b_{i} + \\epsilon_i\n",
    "\t\t\\end{align*}\n",
    "and hence $\\nu^{i}_{\\text{failure}} < \\nu^{i}_{\\text{success}}$ for $i \\in 1, 2$.  Finally, note that the state space at $t = 1$ for agents 1 and 2 can be given by\n",
    "\t\t\\begin{align*}\n",
    "\t\tS &= \\{(\\nu^{1}_{s}, \\nu^{2}_{s})\\}_{s \\in \\{\\text{success},\n",
    "\t\t\\text{failure}\\}} \\\\\n",
    "\t\t&= \\{(\\nu^{1}_{\\text{success}}, \\nu^{2}_{\\text{high}}),\n",
    "\t\t     (\\nu^{1}_{\\text{success}}, \\nu^{2}_{\\text{failure}}),\n",
    "\t     \t (\\nu^{1}_{\\text{failure}}, \\nu^{2}_{\\text{success}}),\n",
    "\t     \t     (\\nu^{1}_{\\text{failure}}, \\nu^{2}_{\\text{failure}})\\} \\\\\n",
    "\t\t     &= \\{\\nu^{1}_{\\text{success}}, \\nu^{1}_{\\text{failure}}\\} \\times \n",
    "\t     \t\t\\{\\nu^{2}_{\\text{success}}, \\nu^{2}_{\\text{failure}}\\}\t\\\\\n",
    "\t\t&= S_1 \\times S_2\n",
    "\t\t\\end{align*}"
   ]
  },
  {
   "cell_type": "markdown",
   "metadata": {},
   "source": [
    "## (2)\n",
    "\n",
    "Recognizing that\n",
    "\n",
    "- $pr(k, i)$ represents $i$'s the subjective likelihood that firm $k$ is \"successful\" (e.g. $pr(\\nu^{i}_{\\text{success}})$)\n",
    "- the probability distribution over the 4 states in $t = 1$ are formed by a joint distribution of two Bernoulli random variables (e.g. $pr(1, i): S_{1} \\to [0, 1]$, $pr(2, i): S_{2} \\to [0, 1]$, and $\\rho^{i}: S \\to [0, 1]$)\n",
    "\n",
    "for each agent $i = 1, 2, 3$:\n",
    "\n",
    "$$\n",
    "\\begin{align*}\n",
    "\\rho_{1}^{i} &= pr((\\nu^{1}_{\\text{high}}, \\nu^{2}_{\\text{high}})) = pr(1, i) \\times pr(2, i) \\\\\n",
    "\\rho_{2}^{i} &= pr((\\nu^{1}_{\\text{high}}, \\nu^{2}_{\\text{low}})) = pr(1, i) \\times (1 - pr(2, i)) \\\\\n",
    "\\rho_{3}^{i} &= pr((\\nu^{1}_{\\text{low}}, \\nu^{2}_{\\text{high}})) = (1 - pr(1, i)) \\times pr(2, i) \\\\\n",
    "\\rho_{4}^{i} &= pr((\\nu^{1}_{\\text{low}}, \\nu^{2}_{\\text{low}})) = (1 - pr(1, i)) \\times (1 - pr(2, i))\n",
    "\\end{align*}\n",
    "$$\n"
   ]
  },
  {
   "cell_type": "markdown",
   "metadata": {},
   "source": [
    "## (3) No risk, identical beliefs\n",
    "\n",
    "### (a) Find the Arrow-Debreu Equilibrium (ADE)"
   ]
  },
  {
   "cell_type": "code",
   "execution_count": 3,
   "metadata": {
    "scrolled": true
   },
   "outputs": [
    {
     "name": "stdout",
     "output_type": "stream",
     "text": [
      "\n",
      "******************************************************************************\n",
      "This program contains Ipopt, a library for large-scale nonlinear optimization.\n",
      " Ipopt is released as open source code under the Eclipse Public License (EPL).\n",
      "         For more information visit http://projects.coin-or.org/Ipopt\n",
      "******************************************************************************\n",
      "\n",
      "A-D Equilibrium:\n",
      " π = {π_0 = 1, ..., π_4}:\n",
      " - [1.0, 2.00001, 2.00001, 2.00001, 2.00001]\n",
      " x = {x_0, ..., x_4}\n",
      " - i = 1: [333.334, 333.333, 333.333, 333.333, 333.333]\n",
      " - i = 2: [333.334, 333.333, 333.333, 333.333, 333.333]\n",
      " - i = 3: [333.332, 333.33, 333.33, 333.33, 333.33]\n"
     ]
    }
   ],
   "source": [
    "## (3.1) Parameters\n",
    "α = 2.0\n",
    "a = [0.0, 0.0, 0.0]\n",
    "# probabilities\n",
    "# - p[k, i] = agent i's belief that firm k is successful\n",
    "p = [0.5 0.5 0.5;\n",
    "     0.5 0.5 0.5]\n",
    "# non-stochastic wealth\n",
    "b = [500.0, 500.0, 1000.0]\n",
    "# stochastic wealth\n",
    "ϵ = [0.0, 0.0]\n",
    "# endowment vectors\n",
    "ω_1 = [0.0, b[1] + ϵ[1], b[1] + ϵ[1], b[1] - ϵ[1], b[1] - ϵ[1]]\n",
    "ω_2 = [0.0, b[2] + ϵ[2], b[2] - ϵ[2], b[2] + ϵ[2], b[2] - ϵ[2]]\n",
    "ω_3 = [b[3], 0.0, 0.0, 0.0, 0.0]\n",
    "\n",
    "# Initiate model and solve for equilibrium\n",
    "m, X, P = init_model(α, a, p, b, ϵ, ω_1, ω_2, ω_3)\n",
    "status = solve(m)\n",
    "print_solution(X, P)"
   ]
  },
  {
   "cell_type": "markdown",
   "metadata": {},
   "source": [
    "### (3) (b) Explain why ADE prices are constant at $t = 1$ and how they relate to $\\delta$ and $\\rho$.\n",
    "\n",
    "### (3) (c) Net trades\n",
    "\n",
    "Explain net trades $\\bar{\\tau}^{i} = \\bar{x}^{i} - \\bar{\\omega}^{i}$.  Could the outcome be achieved by borrowing and elnding alone?\n",
    "\n",
    "### (3) (d) Calculate implied interest rate at the ADE"
   ]
  },
  {
   "cell_type": "markdown",
   "metadata": {},
   "source": [
    "## (4) Some risk, identical beliefs\n",
    "\n",
    "### (a) Find ADE\n",
    "\n",
    "Find ADE and show that optimal prices in are related to aggregate output in $t = 1$."
   ]
  },
  {
   "cell_type": "code",
   "execution_count": 4,
   "metadata": {},
   "outputs": [
    {
     "name": "stdout",
     "output_type": "stream",
     "text": [
      "A-D Equilibrium:\n",
      " π = {π_0 = 1, ..., π_4}:\n",
      " - [1.0, 1.57219, 2.72719, 2.1694, 2.9521]\n",
      " x = {x_0, ..., x_4}\n",
      " - i = 1: [346.662, 379.502, 472.882, 240.203, 282.57]\n",
      " - i = 2: [320.18, 496.344, 182.597, 552.405, 191.541]\n",
      " - i = 3: [333.157, 424.146, 244.516, 307.385, 225.887]\n"
     ]
    }
   ],
   "source": [
    "## (4.1) Parameters\n",
    "# stochastic wealth\n",
    "ϵ = [100.0, 200.0]\n",
    "# endowment vectors\n",
    "ω_1 = [0.0, b[1] + ϵ[1], b[1] + ϵ[1], b[1] - ϵ[1], b[1] - ϵ[1]]\n",
    "ω_2 = [0.0, b[2] + ϵ[2], b[2] - ϵ[2], b[2] + ϵ[2], b[2] - ϵ[2]]\n",
    "ω_3 = [b[3], 0.0, 0.0, 0.0, 0.0]\n",
    "\n",
    "# Initiate model and solve for equilibrium\n",
    "m, X, P = init_model(α, a, p, b, ϵ, ω_1, ω_2, ω_3)\n",
    "status = solve(m)\n",
    "print_solution(X, P)"
   ]
  },
  {
   "cell_type": "markdown",
   "metadata": {},
   "source": [
    "### (4) (b)\n",
    "\n",
    "Show that the consumption stream for agent $i$ at $t = 1$, denoted $\\bar{x}_{1}^{i} \\in \\mathbb{R}^4$ covaries with aggregate output at $t = 1$, denoted $\\omega_{1} \\in \\mathbb{R}^4 = \\sum_{i = 1}^{3} \\omega_{1}^{i}$.  Furthermore, show that $\\exists (c_i, d_i) \\, \\forall i = 1, 2, 3$ such that\n",
    "$$\n",
    "\\begin{align}\n",
    "\\sum_{i = 1}^{3}c_i &= 0 \\\\\n",
    "\\sum_{i = 1}^{3}d_i &= 1 \\\\\n",
    "\\bar{x}^{i}_{1} &= c_{i}\\mathbb{1} + d_i \\omega_1\n",
    "\\end{align}\n",
    "$$\n",
    "\n",
    "### (4) (c) Net trades\n",
    "\n",
    "Explain net trades $\\bar{\\tau}^{i} = \\bar{x}^{i} - \\bar{\\omega}^{i}$.  Could the outcome be achieved by borrowing and lending alone?"
   ]
  },
  {
   "cell_type": "markdown",
   "metadata": {},
   "source": [
    "## (5) Some risk, variation in investor beliefs\n",
    "\n",
    "### (5) (a) Find ADE"
   ]
  },
  {
   "cell_type": "code",
   "execution_count": 5,
   "metadata": {},
   "outputs": [
    {
     "name": "stdout",
     "output_type": "stream",
     "text": [
      "A-D Equilibrium:\n",
      " π = {π_0 = 1, ..., π_4}:\n",
      " - [1.0, 1.30652, 2.86567, 2.22623, 3.94754]\n",
      " x = {x_0, ..., x_4}\n",
      " - i = 1: [339.357, 340.257, 481.574, 247.564, 314.032]\n",
      " - i = 2: [327.347, 449.448, 185.769, 552.954, 217.075]\n",
      " - i = 3: [333.296, 510.289, 232.651, 299.475, 168.89]\n"
     ]
    }
   ],
   "source": [
    "## (5.1) Parameters\n",
    "# probabilities\n",
    "# - p[k, i] = agent i's belief that firm k is successful\n",
    "p = [0.5 0.5 2/3;\n",
    "     0.5 0.5 2/3]\n",
    "\n",
    "# Initiate model solve for equilibrium\n",
    "m, X, P = init_model(α, a, p, b, ϵ, ω_1, ω_2, ω_3)\n",
    "status = solve(m)\n",
    "print_solution(X, P)"
   ]
  },
  {
   "cell_type": "markdown",
   "metadata": {},
   "source": [
    "### (5) (b)\n",
    "\n",
    "How has equilibrium changed relative to (4)?"
   ]
  },
  {
   "cell_type": "markdown",
   "metadata": {},
   "source": [
    "## (6) Some risk, variation in preferences\n",
    "\n",
    "### (6) (a) Find ADE\n",
    "\n",
    "Show that $\\exists (c_i, d_i) \\, \\forall i = 1, 2, 3$ such that\n",
    "$$\n",
    "\\begin{align}\n",
    "\\sum_{i = 1}^{3}c_i &= 0 \\\\\n",
    "\\sum_{i = 1}^{3}d_i &= 1 \\\\\n",
    "x^{i}_{1} &= c_{i}\\mathbb{1} + d_i \\omega_1\n",
    "\\end{align}\n",
    "$$"
   ]
  },
  {
   "cell_type": "code",
   "execution_count": 6,
   "metadata": {},
   "outputs": [
    {
     "name": "stdout",
     "output_type": "stream",
     "text": [
      "A-D Equilibrium:\n",
      " π = {π_0 = 1, ..., π_4}:\n",
      " - [1.0, 35345.1, 43770.2, 39139.6, 48227.1]\n",
      " x = {x_0, ..., x_4}\n",
      " - i = 1: [499.884, 583.895, 582.061, 392.467, 391.037]\n",
      " - i = 2: [499.881, 678.067, 295.52, 677.115, 295.138]\n",
      " - i = 3: [0.234262, 0.0153233, 0.0127065, 0.0140188, 0.0115977]\n"
     ]
    }
   ],
   "source": [
    "## (6.1) Parameters\n",
    "a = [0.0, 0.0, 500.0]\n",
    "# probabilities\n",
    "# - p[k, i] = agent i's belief that firm k is successful\n",
    "p = [0.5 0.5 0.5;\n",
    "     0.5 0.5 0.5]\n",
    "# non-stochastic wealth\n",
    "b = [500.0, 500.0, 1000.0]\n",
    "# stochastic wealth\n",
    "ϵ = [100.0, 200.0]\n",
    "# endowment vectors\n",
    "ω_1 = [0.0, b[1] + ϵ[1], b[1] + ϵ[1], b[1] - ϵ[1], b[1] - ϵ[1]]\n",
    "ω_2 = [0.0, b[2] + ϵ[2], b[2] - ϵ[2], b[2] + ϵ[2], b[2] - ϵ[2]]\n",
    "ω_3 = [b[3], 0.0, 0.0, 0.0, 0.0]\n",
    "\n",
    "# Initiate model and solve for equilibrium\n",
    "m, X, P = init_model(α, a, p, b, ϵ, ω_1, ω_2, ω_3)\n",
    "status = solve(m)\n",
    "print_solution(X, P)"
   ]
  },
  {
   "cell_type": "markdown",
   "metadata": {},
   "source": [
    "### (6) (b)\n",
    "\n",
    "To what numbers do the coefficients $d_i$ converge when $a^{3} \\to \\infty$?  What is happening to risk sharing?"
   ]
  },
  {
   "cell_type": "markdown",
   "metadata": {},
   "source": [
    "## (7) Differences in beliefs\n",
    "\n",
    "### (7) (a) Find ADE under identical beliefs\n",
    "\n",
    "Explain the resulting ADE"
   ]
  },
  {
   "cell_type": "code",
   "execution_count": 7,
   "metadata": {},
   "outputs": [
    {
     "name": "stdout",
     "output_type": "stream",
     "text": [
      "A-D Equilibrium:\n",
      " π = {π_0 = 1, ..., π_4}:\n",
      " - [1.0, 2.15695e5, 2.15695e5, 2.15695e5, 2.15695e5]\n",
      " x = {x_0, ..., x_4}\n",
      " - i = 1: [166.667, 499.995, 499.995, 499.995, 499.995]\n",
      " - i = 2: [166.667, 499.995, 499.995, 499.995, 499.995]\n",
      " - i = 3: [166.667, 499.997, 499.997, 499.997, 499.997]\n"
     ]
    }
   ],
   "source": [
    "a = [0.0, 0.0, 0.0]\n",
    "# probabilities\n",
    "# - p[http://localhost:8888/notebooks/p1.ipynb#k, i] = agent i's belief that firm k is successful\n",
    "p = [0.5 0.5 0.5;\n",
    "     0.5 0.5 0.5]\n",
    "# non-stochastic wealth\n",
    "b = [500.0, 500.0, 500.0]\n",
    "# stochastic wealth\n",
    "ϵ = [0.0, 0.0]\n",
    "# endowment vectors\n",
    "ω_1 = [0.0, b[1] + ϵ[1], b[1] + ϵ[1], b[1] - ϵ[1], b[1] - ϵ[1]]\n",
    "ω_2 = [0.0, b[2] + ϵ[2], b[2] - ϵ[2], b[2] + ϵ[2], b[2] - ϵ[2]]\n",
    "ω_3 = [b[3], b[3], b[3], b[3], b[3]]\n",
    "\n",
    "# Initiate model and solve for equilibrium\n",
    "m, X, P = init_model(α, a, p, b, ϵ, ω_1, ω_2, ω_3)\n",
    "status = solve(m)\n",
    "print_solution(X, P)"
   ]
  },
  {
   "cell_type": "markdown",
   "metadata": {},
   "source": [
    "### (7) (b) Find ADE under heterogenous beliefs\n",
    "\n",
    "Explain why this ADE differs from (7)(a)."
   ]
  },
  {
   "cell_type": "code",
   "execution_count": 8,
   "metadata": {},
   "outputs": [
    {
     "name": "stdout",
     "output_type": "stream",
     "text": [
      "A-D Equilibrium:\n",
      " π = {π_0 = 1, ..., π_4}:\n",
      " - [1.0, 2.17464e5, 217154.0, 2.01101e5, 2.07378e5]\n",
      " x = {x_0, ..., x_4}\n",
      " - i = 1: [166.667, 499.997, 499.995, 499.996, 499.989]\n",
      " - i = 2: [166.667, 499.993, 499.993, 499.997, 499.997]\n",
      " - i = 3: [166.667, 499.996, 500.0, 499.983, 499.997]\n"
     ]
    }
   ],
   "source": [
    "# parameters\n",
    "a = [0.0, 0.0, 0.0]\n",
    "# probabilities\n",
    "# - p[k, i] = agent i's belief that firm k is successful\n",
    "p = [2/3 1/3 3/4;\n",
    "     2/3 1/2 1/4]\n",
    "# non-stochastic wealth\n",
    "b = [500.0, 500.0, 500.0]\n",
    "# stochastic wealth\n",
    "ϵ = [0.0, 0.0]\n",
    "# endowment vectors\n",
    "ω_1 = [0.0, b[1] + ϵ[1], b[1] + ϵ[1], b[1] - ϵ[1], b[1] - ϵ[1]]\n",
    "ω_2 = [0.0, b[2] + ϵ[2], b[2] - ϵ[2], b[2] + ϵ[2], b[2] - ϵ[2]]\n",
    "ω_3 = [b[3], b[3], b[3], b[3], b[3]]\n",
    "\n",
    "# Initiate model and solve for equilibrium\n",
    "m, X, P = init_model(α, a, p, b, ϵ, ω_1, ω_2, ω_3)\n",
    "status = solve(m)\n",
    "print_solution(X, P)"
   ]
  },
  {
   "cell_type": "markdown",
   "metadata": {},
   "source": [
    "## (8) Summary of qualitative insights"
   ]
  },
  {
   "cell_type": "code",
   "execution_count": null,
   "metadata": {
    "collapsed": true
   },
   "outputs": [],
   "source": []
  }
 ],
 "metadata": {
  "kernelspec": {
   "display_name": "Julia 0.6.0",
   "language": "julia",
   "name": "julia-0.6"
  },
  "language_info": {
   "file_extension": ".jl",
   "mimetype": "application/julia",
   "name": "julia",
   "version": "0.6.0"
  }
 },
 "nbformat": 4,
 "nbformat_minor": 2
}
